{
 "cells": [
  {
   "cell_type": "code",
   "execution_count": 14,
   "metadata": {},
   "outputs": [],
   "source": [
    "import iris\n",
    "import pandas as pd"
   ]
  },
  {
   "cell_type": "code",
   "execution_count": 15,
   "metadata": {},
   "outputs": [],
   "source": [
    "#Connection code\n",
    "\n",
    "hostname=\"k8s-743d0686-a6e900d2-91ad558ada-e138f0bd75318090.elb.us-east-1.amazonaws.com\"\n",
    "port=1972\n",
    "namespace=\"USER\"\n",
    "connection_string=hostname+':'+str(port)+'/'+namespace\n",
    "username=\"SQLAdmin\"\n",
    "password=\"B!pM7XVUjuj11\"\n",
    "connection = iris.connect(connection_string, username=username, password=password)"
   ]
  },
  {
   "cell_type": "code",
   "execution_count": 16,
   "metadata": {},
   "outputs": [],
   "source": [
    "cursor = connection.cursor()\n",
    "def execute_sql_commands(cursor, commands_list):\n",
    "    for command in commands_list:\n",
    "        cursor.execute(command)"
   ]
  },
  {
   "cell_type": "code",
   "execution_count": 17,
   "metadata": {},
   "outputs": [],
   "source": [
    "drop_user_table=\"DROP TABLE IF EXISTS user_table\"\n",
    "execute_sql_commands(cursor, [drop_user_table])"
   ]
  },
  {
   "cell_type": "code",
   "execution_count": 18,
   "metadata": {},
   "outputs": [],
   "source": [
    "create_user_table= \"CREATE TABLE user_table(follicle_r int, follicle_l int, weight_gain int,  hair_growth int, skin_darkening int,  cycle_r int,  fast_food float,  pcos int)\"\n",
    "execute_sql_commands(cursor, [create_user_table])"
   ]
  },
  {
   "cell_type": "code",
   "execution_count": 19,
   "metadata": {},
   "outputs": [
    {
     "ename": "InterfaceError",
     "evalue": "[SQLCODE: <-30>:<Table or view not found>]\r\n[Location: <Prepare>]\r\n[%msg: < Table 'SQLUSER.PCOS' not found>]",
     "output_type": "error",
     "traceback": [
      "\u001b[0;31m---------------------------------------------------------------------------\u001b[0m",
      "\u001b[0;31mInterfaceError\u001b[0m                            Traceback (most recent call last)",
      "\u001b[1;32m/Users/reaganrazon/Desktop/treehacks_py/intersystems.ipynb Cell 6\u001b[0m in \u001b[0;36m<cell line: 2>\u001b[0;34m()\u001b[0m\n\u001b[1;32m      <a href='vscode-notebook-cell:/Users/reaganrazon/Desktop/treehacks_py/intersystems.ipynb#W2sZmlsZQ%3D%3D?line=0'>1</a>\u001b[0m copyothertable\u001b[39m=\u001b[39m \u001b[39m\"\u001b[39m\u001b[39mSELECT * INTO user_table FROM pcos\u001b[39m\u001b[39m\"\u001b[39m\n\u001b[0;32m----> <a href='vscode-notebook-cell:/Users/reaganrazon/Desktop/treehacks_py/intersystems.ipynb#W2sZmlsZQ%3D%3D?line=1'>2</a>\u001b[0m execute_sql_commands(cursor, [copyothertable])\n",
      "\u001b[1;32m/Users/reaganrazon/Desktop/treehacks_py/intersystems.ipynb Cell 6\u001b[0m in \u001b[0;36mexecute_sql_commands\u001b[0;34m(cursor, commands_list)\u001b[0m\n\u001b[1;32m      <a href='vscode-notebook-cell:/Users/reaganrazon/Desktop/treehacks_py/intersystems.ipynb#W2sZmlsZQ%3D%3D?line=1'>2</a>\u001b[0m \u001b[39mdef\u001b[39;00m \u001b[39mexecute_sql_commands\u001b[39m(cursor, commands_list):\n\u001b[1;32m      <a href='vscode-notebook-cell:/Users/reaganrazon/Desktop/treehacks_py/intersystems.ipynb#W2sZmlsZQ%3D%3D?line=2'>3</a>\u001b[0m     \u001b[39mfor\u001b[39;00m command \u001b[39min\u001b[39;00m commands_list:\n\u001b[0;32m----> <a href='vscode-notebook-cell:/Users/reaganrazon/Desktop/treehacks_py/intersystems.ipynb#W2sZmlsZQ%3D%3D?line=3'>4</a>\u001b[0m         cursor\u001b[39m.\u001b[39;49mexecute(command)\n",
      "File \u001b[0;32m~/opt/anaconda3/lib/python3.9/site-packages/iris/dbapi/_DBAPI.py:1452\u001b[0m, in \u001b[0;36mCursor.execute\u001b[0;34m(self, operation, *params)\u001b[0m\n\u001b[1;32m   1449\u001b[0m \u001b[39mself\u001b[39m\u001b[39m.\u001b[39m_cleanup()\n\u001b[1;32m   1450\u001b[0m \u001b[39mself\u001b[39m\u001b[39m.\u001b[39m_preparse()\n\u001b[0;32m-> 1452\u001b[0m \u001b[39mself\u001b[39;49m\u001b[39m.\u001b[39;49m_prepare()\n\u001b[1;32m   1453\u001b[0m \u001b[39mself\u001b[39m\u001b[39m.\u001b[39m_execute()\n\u001b[1;32m   1454\u001b[0m \u001b[39mreturn\u001b[39;00m \u001b[39mself\u001b[39m\u001b[39m.\u001b[39m_rowcount\n",
      "File \u001b[0;32m~/opt/anaconda3/lib/python3.9/site-packages/iris/dbapi/_DBAPI.py:264\u001b[0m, in \u001b[0;36mCursor._prepare\u001b[0;34m(self)\u001b[0m\n\u001b[1;32m    262\u001b[0m     \u001b[39mreturn\u001b[39;00m\n\u001b[1;32m    263\u001b[0m \u001b[39melse\u001b[39;00m:\n\u001b[0;32m--> 264\u001b[0m     \u001b[39mself\u001b[39;49m\u001b[39m.\u001b[39;49m_prepare_new()\n",
      "File \u001b[0;32m~/opt/anaconda3/lib/python3.9/site-packages/iris/dbapi/_DBAPI.py:344\u001b[0m, in \u001b[0;36mCursor._prepare_new\u001b[0;34m(self)\u001b[0m\n\u001b[1;32m    342\u001b[0m     sqlcode \u001b[39m=\u001b[39m \u001b[39mself\u001b[39m\u001b[39m.\u001b[39m_in_message\u001b[39m.\u001b[39mwire\u001b[39m.\u001b[39mheader\u001b[39m.\u001b[39m_get_function_code()\n\u001b[1;32m    343\u001b[0m     \u001b[39mif\u001b[39;00m sqlcode \u001b[39mnot\u001b[39;00m \u001b[39min\u001b[39;00m [\u001b[39m0\u001b[39m, \u001b[39m100\u001b[39m]:\n\u001b[0;32m--> 344\u001b[0m         \u001b[39mraise\u001b[39;00m InterfaceError(\u001b[39mself\u001b[39m\u001b[39m.\u001b[39m_get_error_info(sqlcode))\n\u001b[1;32m    346\u001b[0m \u001b[39m# process metadata\u001b[39;00m\n\u001b[1;32m    347\u001b[0m \u001b[39mtry\u001b[39;00m:\n",
      "\u001b[0;31mInterfaceError\u001b[0m: [SQLCODE: <-30>:<Table or view not found>]\r\n[Location: <Prepare>]\r\n[%msg: < Table 'SQLUSER.PCOS' not found>]"
     ]
    }
   ],
   "source": [
    "copyothertable= \"SELECT * INTO user_table FROM pcos\"\n",
    "execute_sql_commands(cursor, [copyothertable])"
   ]
  },
  {
   "cell_type": "code",
   "execution_count": null,
   "metadata": {},
   "outputs": [],
   "source": []
  }
 ],
 "metadata": {
  "kernelspec": {
   "display_name": "base",
   "language": "python",
   "name": "python3"
  },
  "language_info": {
   "codemirror_mode": {
    "name": "ipython",
    "version": 3
   },
   "file_extension": ".py",
   "mimetype": "text/x-python",
   "name": "python",
   "nbconvert_exporter": "python",
   "pygments_lexer": "ipython3",
   "version": "3.9.12"
  },
  "orig_nbformat": 4,
  "vscode": {
   "interpreter": {
    "hash": "f09af6e8458e21ce94b46f1ced702e23e034125d4077660dfce388d5f00275e1"
   }
  }
 },
 "nbformat": 4,
 "nbformat_minor": 2
}
